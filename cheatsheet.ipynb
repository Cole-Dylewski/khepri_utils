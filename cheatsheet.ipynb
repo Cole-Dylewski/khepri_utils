{
 "cells": [
  {
   "cell_type": "code",
   "execution_count": null,
   "metadata": {},
   "outputs": [],
   "source": []
  },
  {
   "cell_type": "code",
   "execution_count": null,
   "metadata": {},
   "outputs": [],
   "source": [
    "getAllLockedQueriesOnRedshift = \"\"\"select a.txn_owner, a.txn_db, a.xid, a.pid, a.txn_start, a.lock_mode, a.relation as table_id,nvl(trim(c.\"name\"),d.relname) as tablename, a.granted,b.pid as blocking_pid ,datediff(s,a.txn_start,getdate())/86400||' days '||datediff(s,a.txn_start,getdate())%86400/3600||' hrs '||datediff(s,a.txn_start,getdate())%3600/60||' mins '||datediff(s,a.txn_start,getdate())%60||' secs' as txn_duration\n",
    "from svv_transactions a \n",
    "left join (select pid,relation,granted from pg_locks group by 1,2,3) b \n",
    "on a.relation=b.relation and a.granted='f' and b.granted='t' \n",
    "left join (select * from stv_tbl_perm where slice=0) c \n",
    "on a.relation=c.id \n",
    "left join pg_class d on a.relation=d.oid\n",
    "where  a.relation is not null;\"\"\"\n",
    "deleteQuery=\"\"\"select pg_terminate_backend(pid);\"\"\"\n",
    "\n",
    "# %%\n",
    "f\"Python Datetime as SQL TimeStamp {dt.datetime.now().strftime('%Y-%m-%d %H:%M:%S')}\"\n",
    "\n",
    "\"get row / column value\"\n",
    "#df.iloc[i]['column name']\n",
    "\n",
    "\"time format conversions\"\n",
    "#records['TIMESTAMP'] = [dt.datetime.strptime(ts, '%Y-%m-%d %H:%M:%S.%f').strftime('%Y-%m-%d %H:%M:%S') for ts in records['TIMESTAMP'].to_list() ]\n",
    "#[dt.datetime.fromtimestamp(x/1000, tz =pytz.timezone('UTC')).strftime(\"%Y-%m-%d\") for x in data['Ad Begin Date'].to_list()]\n",
    "\n",
    "\n",
    "\"print in aws Lambda without generating a new log for each line\"\n",
    "#print(awsLambdaMultiLineStr.replace('\\n','\\r'))\n",
    "\n",
    "\"convert dataframe to list of dictionaries\"\n",
    "#df.to_dict('records')\n",
    "\n",
    "\"sort dataframe\"\n",
    "#df.sort_values(by=['col1', 'col2'], ascending = True)\n",
    "\n",
    "\"Time a process\"\n",
    "# from time import perf_counter\n",
    "# t1_start = perf_counter()\n",
    "\n",
    "# t_stop = perf_counter()\n",
    "# print(\"export_blacklist Runtime:\",t_stop-t1_start)\n",
    "\n",
    "\"load data from s3\"\n",
    "#obj = s3_client.get_object(Bucket=bucket, Key=key)\n",
    "#data = obj.get(\"Body\")ar\n",
    "\n",
    "\"detect if field is date time and convert to specific format\"\n",
    "# from urllib import parse   \n",
    "# pd.to_datetime('2023-10-12 00:30:00').replace(hour=12, minute=00).strftime('%Y-%m-%d %X')\n",
    "\n",
    "\"print out all imported modules\"\n",
    "# modulenames = set(set(sys.modules) & set(globals()))\n",
    "# for name in modulenames:\n",
    "#     print(name)\n"
   ]
  }
 ],
 "metadata": {
  "language_info": {
   "name": "python"
  }
 },
 "nbformat": 4,
 "nbformat_minor": 2
}
